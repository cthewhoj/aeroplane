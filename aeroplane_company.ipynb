{
 "cells": [
  {
   "cell_type": "code",
   "execution_count": 35,
   "metadata": {},
   "outputs": [],
   "source": [
    "import pandas as pd\n",
    "import matplotlib.pyplot as plt\n",
    "import numpy as np\n",
    "import seaborn as sns"
   ]
  },
  {
   "cell_type": "markdown",
   "metadata": {},
   "source": []
  },
  {
   "cell_type": "code",
   "execution_count": 36,
   "metadata": {},
   "outputs": [],
   "source": [
    "df = pd.read_csv(\"database.csv\")"
   ]
  },
  {
   "cell_type": "code",
   "execution_count": 50,
   "metadata": {},
   "outputs": [
    {
     "data": {
      "text/html": [
       "<div>\n",
       "<style scoped>\n",
       "    .dataframe tbody tr th:only-of-type {\n",
       "        vertical-align: middle;\n",
       "    }\n",
       "\n",
       "    .dataframe tbody tr th {\n",
       "        vertical-align: top;\n",
       "    }\n",
       "\n",
       "    .dataframe thead th {\n",
       "        text-align: right;\n",
       "    }\n",
       "</style>\n",
       "<table border=\"1\" class=\"dataframe\">\n",
       "  <thead>\n",
       "    <tr style=\"text-align: right;\">\n",
       "      <th></th>\n",
       "      <th>PASSENGER_ID</th>\n",
       "      <th>BOOKING_DATE</th>\n",
       "      <th>FLIGHT_NUMBER</th>\n",
       "      <th>FLIGHT_DEPARTURE_DATE</th>\n",
       "      <th>PASSENGER_ZIP_CODE</th>\n",
       "      <th>PASSENGER_COUNTRY_CODE</th>\n",
       "      <th>AGE</th>\n",
       "      <th>BOOKING_TRAVEL_AGENCY_ZIP_CODE</th>\n",
       "      <th>AIR_FLIGHT_COMPANY_NAME</th>\n",
       "      <th>GENDER_CODE</th>\n",
       "      <th>PROFIT (AUD)</th>\n",
       "    </tr>\n",
       "  </thead>\n",
       "  <tbody>\n",
       "    <tr>\n",
       "      <th>0</th>\n",
       "      <td>290344686</td>\n",
       "      <td>1/01/2012</td>\n",
       "      <td>SA</td>\n",
       "      <td>13-Jan-13</td>\n",
       "      <td>2075</td>\n",
       "      <td>AUS</td>\n",
       "      <td>55.0</td>\n",
       "      <td>2022</td>\n",
       "      <td>A</td>\n",
       "      <td>M</td>\n",
       "      <td>2909.79</td>\n",
       "    </tr>\n",
       "    <tr>\n",
       "      <th>1</th>\n",
       "      <td>247630864</td>\n",
       "      <td>1/01/2012</td>\n",
       "      <td>WB</td>\n",
       "      <td>4-May-13</td>\n",
       "      <td>4118</td>\n",
       "      <td>AUS</td>\n",
       "      <td>48.0</td>\n",
       "      <td>2060</td>\n",
       "      <td>A</td>\n",
       "      <td>F</td>\n",
       "      <td>1119.92</td>\n",
       "    </tr>\n",
       "    <tr>\n",
       "      <th>2</th>\n",
       "      <td>491321871</td>\n",
       "      <td>1/01/2012</td>\n",
       "      <td>SA</td>\n",
       "      <td>13-Jan-13</td>\n",
       "      <td>2232</td>\n",
       "      <td>AUS</td>\n",
       "      <td>53.0</td>\n",
       "      <td>2060</td>\n",
       "      <td>A</td>\n",
       "      <td>F</td>\n",
       "      <td>2447.96</td>\n",
       "    </tr>\n",
       "    <tr>\n",
       "      <th>3</th>\n",
       "      <td>443821994</td>\n",
       "      <td>1/01/2012</td>\n",
       "      <td>SA</td>\n",
       "      <td>5-Jan-13</td>\n",
       "      <td>2171</td>\n",
       "      <td>AUS</td>\n",
       "      <td>52.0</td>\n",
       "      <td>2606</td>\n",
       "      <td>A</td>\n",
       "      <td>M</td>\n",
       "      <td>1088.35</td>\n",
       "    </tr>\n",
       "    <tr>\n",
       "      <th>4</th>\n",
       "      <td>476584402</td>\n",
       "      <td>1/01/2012</td>\n",
       "      <td>SA</td>\n",
       "      <td>5-Jan-13</td>\n",
       "      <td>2171</td>\n",
       "      <td>AUS</td>\n",
       "      <td>18.0</td>\n",
       "      <td>2606</td>\n",
       "      <td>A</td>\n",
       "      <td>M</td>\n",
       "      <td>739.83</td>\n",
       "    </tr>\n",
       "  </tbody>\n",
       "</table>\n",
       "</div>"
      ],
      "text/plain": [
       "   PASSENGER_ID BOOKING_DATE FLIGHT_NUMBER FLIGHT_DEPARTURE_DATE  \\\n",
       "0     290344686    1/01/2012            SA             13-Jan-13   \n",
       "1     247630864    1/01/2012            WB              4-May-13   \n",
       "2     491321871    1/01/2012            SA             13-Jan-13   \n",
       "3     443821994    1/01/2012            SA              5-Jan-13   \n",
       "4     476584402    1/01/2012            SA              5-Jan-13   \n",
       "\n",
       "  PASSENGER_ZIP_CODE PASSENGER_COUNTRY_CODE   AGE  \\\n",
       "0               2075                    AUS  55.0   \n",
       "1               4118                    AUS  48.0   \n",
       "2               2232                    AUS  53.0   \n",
       "3               2171                    AUS  52.0   \n",
       "4               2171                    AUS  18.0   \n",
       "\n",
       "  BOOKING_TRAVEL_AGENCY_ZIP_CODE AIR_FLIGHT_COMPANY_NAME GENDER_CODE  \\\n",
       "0                           2022                       A           M   \n",
       "1                           2060                       A           F   \n",
       "2                           2060                       A           F   \n",
       "3                           2606                       A           M   \n",
       "4                           2606                       A           M   \n",
       "\n",
       "   PROFIT (AUD)  \n",
       "0       2909.79  \n",
       "1       1119.92  \n",
       "2       2447.96  \n",
       "3       1088.35  \n",
       "4        739.83  "
      ]
     },
     "execution_count": 50,
     "metadata": {},
     "output_type": "execute_result"
    }
   ],
   "source": [
    "df.head()"
   ]
  },
  {
   "cell_type": "code",
   "execution_count": 51,
   "metadata": {},
   "outputs": [
    {
     "data": {
      "text/plain": [
       "PASSENGER_ID                        int64\n",
       "BOOKING_DATE                       object\n",
       "FLIGHT_NUMBER                      object\n",
       "FLIGHT_DEPARTURE_DATE              object\n",
       "PASSENGER_ZIP_CODE                 object\n",
       "PASSENGER_COUNTRY_CODE             object\n",
       "AGE                               float64\n",
       "BOOKING_TRAVEL_AGENCY_ZIP_CODE     object\n",
       "AIR_FLIGHT_COMPANY_NAME            object\n",
       "GENDER_CODE                        object\n",
       "PROFIT (AUD)                      float64\n",
       "dtype: object"
      ]
     },
     "execution_count": 51,
     "metadata": {},
     "output_type": "execute_result"
    }
   ],
   "source": [
    "df.dtypes"
   ]
  },
  {
   "cell_type": "code",
   "execution_count": 57,
   "metadata": {},
   "outputs": [],
   "source": [
    "# https://pandas.pydata.org/docs/reference/api/pandas.to_datetime.html\n",
    "# Convert date columns to date format\n",
    "df[\"BOOKING_DATE\"] = pd.to_datetime(df[\"BOOKING_DATE\"], dayfirst = True)\n",
    "df[\"FLIGHT_DEPARTURE_DATE\"] = pd.to_datetime(df[\"FLIGHT_DEPARTURE_DATE\"], dayfirst = True)"
   ]
  },
  {
   "cell_type": "code",
   "execution_count": 58,
   "metadata": {},
   "outputs": [
    {
     "data": {
      "text/plain": [
       "PASSENGER_ID                               int64\n",
       "BOOKING_DATE                      datetime64[ns]\n",
       "FLIGHT_NUMBER                             object\n",
       "FLIGHT_DEPARTURE_DATE             datetime64[ns]\n",
       "PASSENGER_ZIP_CODE                        object\n",
       "PASSENGER_COUNTRY_CODE                    object\n",
       "AGE                                      float64\n",
       "BOOKING_TRAVEL_AGENCY_ZIP_CODE            object\n",
       "AIR_FLIGHT_COMPANY_NAME                   object\n",
       "GENDER_CODE                               object\n",
       "PROFIT (AUD)                             float64\n",
       "dtype: object"
      ]
     },
     "execution_count": 58,
     "metadata": {},
     "output_type": "execute_result"
    }
   ],
   "source": [
    "df.dtypes"
   ]
  },
  {
   "attachments": {},
   "cell_type": "markdown",
   "metadata": {},
   "source": [
    "Missing Values"
   ]
  },
  {
   "cell_type": "code",
   "execution_count": null,
   "metadata": {},
   "outputs": [
    {
     "data": {
      "text/plain": [
       "PASSENGER_ID                      0\n",
       "BOOKING_DATE                      0\n",
       "FLIGHT_NUMBER                     0\n",
       "FLIGHT_DEPARTURE_DATE             0\n",
       "PASSENGER_ZIP_CODE                7\n",
       "PASSENGER_COUNTRY_CODE            0\n",
       "AGE                               1\n",
       "BOOKING_TRAVEL_AGENCY_ZIP_CODE    1\n",
       "AIR_FLIGHT_COMPANY_NAME           0\n",
       "GENDER_CODE                       1\n",
       "PROFIT (AUD)                      0\n",
       "dtype: int64"
      ]
     },
     "execution_count": 6,
     "metadata": {},
     "output_type": "execute_result"
    }
   ],
   "source": [
    "df.isnull().sum()"
   ]
  },
  {
   "cell_type": "markdown",
   "metadata": {},
   "source": []
  },
  {
   "cell_type": "code",
   "execution_count": 63,
   "metadata": {},
   "outputs": [],
   "source": [
    "df_booking = df[[\"PASSENGER_ID\", \"BOOKING_DATE\", \"FLIGHT_DEPARTURE_DATE\", \"AIR_FLIGHT_COMPANY_NAME\"]].copy()"
   ]
  },
  {
   "cell_type": "code",
   "execution_count": 64,
   "metadata": {},
   "outputs": [],
   "source": [
    "# Add column for difference between the booking dates and flight departure dates\n",
    "df_booking[\"DIFFERENCE\"] = (df_booking[\"FLIGHT_DEPARTURE_DATE\"] - df_booking[\"BOOKING_DATE\"]).dt.days"
   ]
  },
  {
   "cell_type": "code",
   "execution_count": 83,
   "metadata": {},
   "outputs": [
    {
     "name": "stdout",
     "output_type": "stream",
     "text": [
      "                           count    mean     std  min    25%    50%    75%  \\\n",
      "AIR_FLIGHT_COMPANY_NAME                                                      \n",
      "A                        37536.0  211.66  121.89  2.0  113.0  200.0  295.0   \n",
      "B                         9611.0  223.58  143.42  4.0  108.0  207.0  317.0   \n",
      "C                         1007.0  232.30  153.48  5.0  121.0  212.0  316.0   \n",
      "\n",
      "                            max  \n",
      "AIR_FLIGHT_COMPANY_NAME          \n",
      "A                        1630.0  \n",
      "B                        1794.0  \n",
      "C                        1557.0  \n"
     ]
    }
   ],
   "source": [
    "# Summary statistics for each company\n",
    "summary_stats = df_booking.groupby(\"AIR_FLIGHT_COMPANY_NAME\")[\"DIFFERENCE\"].describe().round(2)\n",
    "print(summary_stats)"
   ]
  },
  {
   "cell_type": "code",
   "execution_count": 76,
   "metadata": {},
   "outputs": [
    {
     "data": {
      "text/plain": [
       "<AxesSubplot: title={'center': 'DIFFERENCE'}, xlabel='AIR_FLIGHT_COMPANY_NAME'>"
      ]
     },
     "execution_count": 76,
     "metadata": {},
     "output_type": "execute_result"
    },
    {
     "data": {
      "image/png": "[encoded data removed]",
      "text/plain": [
       "<Figure size 640x480 with 1 Axes>"
      ]
     },
     "metadata": {},
     "output_type": "display_data"
    }
   ],
   "source": [
    "df_booking.boxplot(column = [\"DIFFERENCE\"], by = \"AIR_FLIGHT_COMPANY_NAME\")"
   ]
  },
  {
   "cell_type": "code",
   "execution_count": 91,
   "metadata": {},
   "outputs": [
    {
     "data": {
      "text/plain": [
       "array([[<AxesSubplot: title={'center': 'A'}>,\n",
       "        <AxesSubplot: title={'center': 'B'}>],\n",
       "       [<AxesSubplot: title={'center': 'C'}>, <AxesSubplot: >]],\n",
       "      dtype=object)"
      ]
     },
     "execution_count": 91,
     "metadata": {},
     "output_type": "execute_result"
    },
    {
     "data": {
      "image/png": "[encoded data removed]",
      "text/plain": [
       "<Figure size 640x480 with 4 Axes>"
      ]
     },
     "metadata": {},
     "output_type": "display_data"
    }
   ],
   "source": [
    "df_booking.hist(column = [\"DIFFERENCE\"], by = \"AIR_FLIGHT_COMPANY_NAME\", bins = 100)"
   ]
  }
 ],
 "metadata": {
  "kernelspec": {
   "display_name": "Python 3.10.7 64-bit",
   "language": "python",
   "name": "python3"
  },
  "language_info": {
   "codemirror_mode": {
    "name": "ipython",
    "version": 3
   },
   "file_extension": ".py",
   "mimetype": "text/x-python",
   "name": "python",
   "nbconvert_exporter": "python",
   "pygments_lexer": "ipython3",
   "version": "3.10.7"
  },
  "orig_nbformat": 4,
  "vscode": {
   "interpreter": {
    "hash": "2469a70536e4d2335a2ea8907942d0699c37342a371ac185bdb5b0aa6f073890"
   }
  }
 },
 "nbformat": 4,
 "nbformat_minor": 2
}
